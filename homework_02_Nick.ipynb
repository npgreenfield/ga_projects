{
 "cells": [
  {
   "cell_type": "markdown",
   "metadata": {},
   "source": [
    "### Approach\n",
    "* Load and clean the data.  Fill in empty values (where appropriate).  Convert categorical features to numerical (via dictionaries and one-hot encoding.  Create additional features as well.\n",
    "* Split the data using train_test_split.  Then, identify the features with the highest correlation to SalePrice.  Run a simple linear regression individually and aggregately on the two features with the highest correlation.\n",
    "* Use a Pipeline and Grid Search for all other tests.  Apply the Standard Scaler to normalize the features (so that features do not dominate the model as a result of the magnetude of their units).\n",
    "* Run a linear regression using Polynomial Features, a Ridge Regression and a Lasso Regression.\n",
    "\n",
    "### Findings\n",
    "* the worst findings were single feature linear regression models on un-scaled data.  combining the top two features improved those results decently.\n",
    "* a linear regression grid search with the standard scaler and polynomial features yielded only slightly improved upon the two-feature linear regression model.\n",
    "* a ridge regression and lasso regression model (with standard scaler and polynomial features) produces strikingly similar results -- which were meaningfully better than the linear regression grid search with the standard scaler and polynomial features."
   ]
  },
  {
   "cell_type": "markdown",
   "metadata": {},
   "source": [
    "#### Step 1: Load the Data, Fillna & Convert Categorical Data to Numeric (where possible).\n",
    "we can encode these to follow the data dictionary. https://ww2.amstat.org/publications/jse/v19n3/decock/datadocumentation.txt"
   ]
  },
  {
   "cell_type": "code",
   "execution_count": 32,
   "metadata": {},
   "outputs": [],
   "source": [
    "#%matplotlib notebook\n",
    "%matplotlib inline\n",
    "import matplotlib.pyplot as plt\n",
    "import numpy as np\n",
    "import pandas as pd\n",
    "import seaborn as sns\n",
    "import statsmodels.formula.api as smf\n",
    "\n",
    "from sklearn.datasets import make_regression\n",
    "from sklearn.linear_model import LinearRegression\n",
    "from sklearn.metrics import mean_squared_error\n",
    "from sklearn.pipeline import Pipeline"
   ]
  },
  {
   "cell_type": "code",
   "execution_count": 33,
   "metadata": {},
   "outputs": [],
   "source": [
    "ames = pd.read_csv('data/ames_housing.csv')"
   ]
  },
  {
   "cell_type": "code",
   "execution_count": 34,
   "metadata": {},
   "outputs": [],
   "source": [
    "ames['Alley'].value_counts()\n",
    "ames['Alley'] = ames['Alley'].fillna(\"None\")\n",
    "ames = ames.replace({\"Alley\": {\"None\": 0, \"Grvl\": 1, \"Pave\": 2}})"
   ]
  },
  {
   "cell_type": "code",
   "execution_count": 35,
   "metadata": {},
   "outputs": [],
   "source": [
    "ames['FireplaceQu'].value_counts()\n",
    "ames['FireplaceQu'] = ames['FireplaceQu'].fillna(\"None\")\n",
    "ames = ames.replace({\"FireplaceQu\": {\"None\": 0, \"Po\": 1, \"Fa\": 2, \"TA\": 3, \"Gd\": 4, \"Ex\": 5}})"
   ]
  },
  {
   "cell_type": "code",
   "execution_count": 36,
   "metadata": {},
   "outputs": [],
   "source": [
    "LF_mean=ames.LotFrontage.mean()\n",
    "ames['LotFrontage'] = ames['LotFrontage'].fillna(LF_mean)"
   ]
  },
  {
   "cell_type": "code",
   "execution_count": 37,
   "metadata": {},
   "outputs": [],
   "source": [
    "ames['PoolQC'].value_counts()\n",
    "ames['PoolQC'] = ames['PoolQC'].fillna(\"None\")\n",
    "ames = ames.replace({\"PoolQC\": {\"None\": 0, \"Po\": 1, \"Fa\": 2, \"TA\": 3, \"Gd\": 4, \"Ex\": 5}})"
   ]
  },
  {
   "cell_type": "code",
   "execution_count": 38,
   "metadata": {},
   "outputs": [],
   "source": [
    "ames['BsmtCond'].value_counts()\n",
    "ames = ames.replace({\"BsmtCond\": {\"No\": 0, \"Po\": 1, \"Fa\": 2, \"TA\": 3, \"Gd\": 4, \"Ex\": 5}})\n",
    "ames['BsmtCond'] = ames['BsmtCond'].fillna(0)"
   ]
  },
  {
   "cell_type": "code",
   "execution_count": 39,
   "metadata": {},
   "outputs": [],
   "source": [
    "ames['BsmtQual'].value_counts()\n",
    "ames = ames.replace({\"BsmtQual\" : {\"No\" : 0, \"Po\" : 1, \"Fa\" : 2, \"TA\": 3, \"Gd\" : 4, \"Ex\" : 5}})\n",
    "ames['BsmtQual'] = ames['BsmtQual'].fillna(0)"
   ]
  },
  {
   "cell_type": "code",
   "execution_count": 40,
   "metadata": {},
   "outputs": [],
   "source": [
    "ames['Fence'].value_counts()\n",
    "ames['Fence'] = ames['Fence'].fillna(\"NA\")\n",
    "ames = ames.replace({\"Fence\" : {\"NA\" : 1, \"MnWw\" : 2, \"GdWo\": 3, \"MnPrv\" : 4, \"GdPrv\" : 5}})"
   ]
  },
  {
   "cell_type": "code",
   "execution_count": 41,
   "metadata": {},
   "outputs": [],
   "source": [
    "ames['BsmtExposure'].value_counts()\n",
    "ames['BsmtExposure'] = ames['BsmtExposure'].fillna(\"None\")\n",
    "ames = ames.replace({\"BsmtExposure\" : {\"None\" : 1, \"No\" : 2, \"Mn\": 3, \"Av\" : 4, \"Gd\" : 5}})"
   ]
  },
  {
   "cell_type": "code",
   "execution_count": 42,
   "metadata": {},
   "outputs": [],
   "source": [
    "ames['BsmtFinType1'].value_counts()\n",
    "ames['BsmtFinType1'] = ames['BsmtFinType1'].fillna(\"None\")\n",
    "ames = ames.replace({\"BsmtFinType1\" : {\"None\" : 1,\"NA\" : 2,\"Unf\" : 3,\"LwQ\" : 4, \"Rec\" : 5, \"BLQ\": 6, \"ALQ\" : 7, \"GLQ\" : 8}})"
   ]
  },
  {
   "cell_type": "code",
   "execution_count": 43,
   "metadata": {},
   "outputs": [],
   "source": [
    "ames['BsmtFinType2'].value_counts()\n",
    "ames['BsmtFinType2'] = ames['BsmtFinType2'].fillna(\"None\")\n",
    "ames = ames.replace({\"BsmtFinType2\" : {\"None\" : 1,\"NA\" : 2,\"Unf\" : 3,\"LwQ\" : 4, \"Rec\" : 5, \"BLQ\": 6, \"ALQ\" : 7, \"GLQ\" : 8}})"
   ]
  },
  {
   "cell_type": "code",
   "execution_count": 44,
   "metadata": {},
   "outputs": [],
   "source": [
    "ames['Electrical'].value_counts()\n",
    "ames['Electrical'] = ames['Electrical'].fillna(\"None\")\n",
    "ames = ames.replace({\"Electrical\" : {\"None\" : 0,\"Mix\" : 1, \"FuseP\" : 2, \"FuseF\": 3, \"FuseA\" : 4, \"SBrkr\" : 5}})"
   ]
  },
  {
   "cell_type": "code",
   "execution_count": 45,
   "metadata": {},
   "outputs": [],
   "source": [
    "# since we're going to create dummy variables... and since these variables have missing values\n",
    "# I won't fillna... instead, when I create dummy variables, I won't drop one.\n",
    "    #ames['MasVnrType'].value_counts()\n",
    "    #ames['MasVnrType'] = ames['MasVnrType'].fillna(\"None\")\n",
    "\n",
    "    #ames['GarageType'].value_counts()\n",
    "    #ames['GarageType'] = ames['GarageType'].fillna(\"None\")\n",
    "\n",
    "    #ames['MiscFeature'].value_counts()\n",
    "    #ames['MiscFeature'] = ames['MiscFeature'].fillna(\"None\")"
   ]
  },
  {
   "cell_type": "code",
   "execution_count": 46,
   "metadata": {},
   "outputs": [],
   "source": [
    "ames['GarageQual'].value_counts()\n",
    "ames = ames.replace({\"GarageQual\": {\"No\": 0, \"Po\": 1, \"Fa\": 2, \"TA\": 3, \"Gd\": 4, \"Ex\": 5}})\n",
    "ames['GarageQual'] = ames['GarageQual'].fillna(0)"
   ]
  },
  {
   "cell_type": "code",
   "execution_count": 47,
   "metadata": {},
   "outputs": [],
   "source": [
    "ames['GarageFinish'].value_counts()\n",
    "ames = ames.replace({\"GarageFinish\": {\"Unf\": 1, \"RFn\": 2, \"Fin\": 3}})\n",
    "ames['GarageFinish'] = ames['GarageFinish'].fillna(0)"
   ]
  },
  {
   "cell_type": "code",
   "execution_count": 48,
   "metadata": {},
   "outputs": [],
   "source": [
    "ames['GarageCond'].value_counts()\n",
    "ames = ames.replace({\"GarageCond\": {\"No\": 0, \"Po\": 1, \"Fa\": 2, \"TA\": 3, \"Gd\": 4, \"Ex\": 5}})\n",
    "ames['GarageCond'] = ames['GarageCond'].fillna(0)"
   ]
  },
  {
   "cell_type": "code",
   "execution_count": 49,
   "metadata": {},
   "outputs": [],
   "source": [
    "ames['MasVnrArea'] = ames['MasVnrArea'].fillna(0)"
   ]
  },
  {
   "cell_type": "code",
   "execution_count": 50,
   "metadata": {},
   "outputs": [],
   "source": [
    "GYB_median=ames.GarageYrBlt.median()\n",
    "ames['GarageYrBlt'] = ames['GarageYrBlt'].fillna(GYB_median)"
   ]
  },
  {
   "cell_type": "code",
   "execution_count": 51,
   "metadata": {},
   "outputs": [],
   "source": [
    "# create dummy variables\n",
    "masonry_dummies = pd.get_dummies(ames.MasVnrType, prefix='Masonry')\n",
    "misc_dummies = pd.get_dummies(ames.MiscFeature, prefix='MiscFeature')\n",
    "garage_dummies = pd.get_dummies(ames.GarageType, prefix='Garage')\n",
    "zoning_dummies = pd.get_dummies(ames.MSZoning, drop_first=True, prefix='Zoning')\n",
    "\n",
    "ames=ames.join(masonry_dummies)\n",
    "ames=ames.join(misc_dummies)\n",
    "ames=ames.join(garage_dummies)\n",
    "ames=ames.join(zoning_dummies)\n",
    "ames=ames.drop('MasVnrType',axis=1)\n",
    "ames=ames.drop('MiscFeature',axis=1)\n",
    "ames=ames.drop('GarageType',axis=1)\n",
    "ames=ames.drop('MSZoning',axis=1)"
   ]
  },
  {
   "cell_type": "code",
   "execution_count": 52,
   "metadata": {},
   "outputs": [],
   "source": [
    "# add some new features (not using ordinal features since it's difficult to create a formula)... and drop the originals\n",
    "\n",
    "ames['OverallGrade'] = ames['OverallQual'] * ames['OverallCond']\n",
    "ames['BasementOverall'] = ames['BsmtCond'] * ames['BsmtQual']\n",
    "ames['GarageOverall'] = ames['GarageQual'] * ames['GarageCond']\n",
    "ames['PoolOverall'] = ames['PoolArea'] * ames['PoolQC']\n",
    "\n",
    "ames=ames.drop('OverallQual',axis=1)\n",
    "ames=ames.drop('OverallCond',axis=1)\n",
    "ames=ames.drop('BsmtCond',axis=1)\n",
    "ames=ames.drop('BsmtQual',axis=1)\n",
    "ames=ames.drop('GarageQual',axis=1)\n",
    "ames=ames.drop('GarageCond',axis=1)\n",
    "ames=ames.drop('PoolArea',axis=1)\n",
    "ames=ames.drop('PoolQC',axis=1)"
   ]
  },
  {
   "cell_type": "code",
   "execution_count": 53,
   "metadata": {},
   "outputs": [
    {
     "name": "stdout",
     "output_type": "stream",
     "text": [
      "<class 'pandas.core.frame.DataFrame'>\n",
      "RangeIndex: 1460 entries, 0 to 1459\n",
      "Data columns (total 91 columns):\n",
      "Id                  1460 non-null int64\n",
      "MSSubClass          1460 non-null int64\n",
      "LotFrontage         1460 non-null float64\n",
      "LotArea             1460 non-null int64\n",
      "Street              1460 non-null object\n",
      "Alley               1460 non-null int64\n",
      "LotShape            1460 non-null object\n",
      "LandContour         1460 non-null object\n",
      "Utilities           1460 non-null object\n",
      "LotConfig           1460 non-null object\n",
      "LandSlope           1460 non-null object\n",
      "Neighborhood        1460 non-null object\n",
      "Condition1          1460 non-null object\n",
      "Condition2          1460 non-null object\n",
      "BldgType            1460 non-null object\n",
      "HouseStyle          1460 non-null object\n",
      "YearBuilt           1460 non-null int64\n",
      "YearRemodAdd        1460 non-null int64\n",
      "RoofStyle           1460 non-null object\n",
      "RoofMatl            1460 non-null object\n",
      "Exterior1st         1460 non-null object\n",
      "Exterior2nd         1460 non-null object\n",
      "MasVnrArea          1460 non-null float64\n",
      "ExterQual           1460 non-null object\n",
      "ExterCond           1460 non-null object\n",
      "Foundation          1460 non-null object\n",
      "BsmtExposure        1460 non-null int64\n",
      "BsmtFinType1        1460 non-null int64\n",
      "BsmtFinSF1          1460 non-null int64\n",
      "BsmtFinType2        1460 non-null int64\n",
      "BsmtFinSF2          1460 non-null int64\n",
      "BsmtUnfSF           1460 non-null int64\n",
      "TotalBsmtSF         1460 non-null int64\n",
      "Heating             1460 non-null object\n",
      "HeatingQC           1460 non-null object\n",
      "CentralAir          1460 non-null object\n",
      "Electrical          1460 non-null int64\n",
      "1stFlrSF            1460 non-null int64\n",
      "2ndFlrSF            1460 non-null int64\n",
      "LowQualFinSF        1460 non-null int64\n",
      "GrLivArea           1460 non-null int64\n",
      "BsmtFullBath        1460 non-null int64\n",
      "BsmtHalfBath        1460 non-null int64\n",
      "FullBath            1460 non-null int64\n",
      "HalfBath            1460 non-null int64\n",
      "BedroomAbvGr        1460 non-null int64\n",
      "KitchenAbvGr        1460 non-null int64\n",
      "KitchenQual         1460 non-null object\n",
      "TotRmsAbvGrd        1460 non-null int64\n",
      "Functional          1460 non-null object\n",
      "Fireplaces          1460 non-null int64\n",
      "FireplaceQu         1460 non-null int64\n",
      "GarageYrBlt         1460 non-null float64\n",
      "GarageFinish        1460 non-null float64\n",
      "GarageCars          1460 non-null int64\n",
      "GarageArea          1460 non-null int64\n",
      "PavedDrive          1460 non-null object\n",
      "WoodDeckSF          1460 non-null int64\n",
      "OpenPorchSF         1460 non-null int64\n",
      "EnclosedPorch       1460 non-null int64\n",
      "3SsnPorch           1460 non-null int64\n",
      "ScreenPorch         1460 non-null int64\n",
      "Fence               1460 non-null int64\n",
      "MiscVal             1460 non-null int64\n",
      "MoSold              1460 non-null int64\n",
      "YrSold              1460 non-null int64\n",
      "SaleType            1460 non-null object\n",
      "SaleCondition       1460 non-null object\n",
      "SalePrice           1460 non-null int64\n",
      "Masonry_BrkCmn      1460 non-null uint8\n",
      "Masonry_BrkFace     1460 non-null uint8\n",
      "Masonry_None        1460 non-null uint8\n",
      "Masonry_Stone       1460 non-null uint8\n",
      "MiscFeature_Gar2    1460 non-null uint8\n",
      "MiscFeature_Othr    1460 non-null uint8\n",
      "MiscFeature_Shed    1460 non-null uint8\n",
      "MiscFeature_TenC    1460 non-null uint8\n",
      "Garage_2Types       1460 non-null uint8\n",
      "Garage_Attchd       1460 non-null uint8\n",
      "Garage_Basment      1460 non-null uint8\n",
      "Garage_BuiltIn      1460 non-null uint8\n",
      "Garage_CarPort      1460 non-null uint8\n",
      "Garage_Detchd       1460 non-null uint8\n",
      "Zoning_FV           1460 non-null uint8\n",
      "Zoning_RH           1460 non-null uint8\n",
      "Zoning_RL           1460 non-null uint8\n",
      "Zoning_RM           1460 non-null uint8\n",
      "OverallGrade        1460 non-null int64\n",
      "BasementOverall     1460 non-null float64\n",
      "GarageOverall       1460 non-null float64\n",
      "PoolOverall         1460 non-null int64\n",
      "dtypes: float64(6), int64(41), object(26), uint8(18)\n",
      "memory usage: 858.4+ KB\n"
     ]
    }
   ],
   "source": [
    "ames.info()"
   ]
  },
  {
   "cell_type": "code",
   "execution_count": 54,
   "metadata": {},
   "outputs": [],
   "source": [
    "# eliminate all non-numeric features\n",
    "#ames = ames.select_dtypes(include = 'int64')\n",
    "ames=ames.loc[:, (ames.dtypes == np.float64) | (ames.dtypes==np.int64) | (ames.dtypes==np.uint8)];"
   ]
  },
  {
   "cell_type": "markdown",
   "metadata": {},
   "source": [
    "#### Step 2\n",
    "\n",
    "Identify the features that have the highest correlation to the SalePrice "
   ]
  },
  {
   "cell_type": "code",
   "execution_count": 55,
   "metadata": {},
   "outputs": [],
   "source": [
    "corr_mat = ames.corr()"
   ]
  },
  {
   "cell_type": "code",
   "execution_count": 56,
   "metadata": {},
   "outputs": [
    {
     "data": {
      "text/plain": [
       "SalePrice          1.000000\n",
       "GrLivArea          0.708624\n",
       "GarageCars         0.640409\n",
       "GarageArea         0.623431\n",
       "TotalBsmtSF        0.613581\n",
       "1stFlrSF           0.605852\n",
       "BasementOverall    0.571438\n",
       "OverallGrade       0.565294\n",
       "FullBath           0.560664\n",
       "GarageFinish       0.549247\n",
       "TotRmsAbvGrd       0.533723\n",
       "YearBuilt          0.522897\n",
       "FireplaceQu        0.520438\n",
       "YearRemodAdd       0.507101\n",
       "MasVnrArea         0.472614\n",
       "Fireplaces         0.466929\n",
       "GarageYrBlt        0.466754\n",
       "BsmtFinSF1         0.386420\n",
       "BsmtExposure       0.374696\n",
       "Garage_Attchd      0.335961\n",
       "LotFrontage        0.334901\n",
       "Name: SalePrice, dtype: float64"
      ]
     },
     "execution_count": 56,
     "metadata": {},
     "output_type": "execute_result"
    }
   ],
   "source": [
    "corr_mat['SalePrice'].sort_values(ascending=False)[:21]"
   ]
  },
  {
   "cell_type": "markdown",
   "metadata": {},
   "source": [
    "#### Step 3\n",
    "\n",
    "split the data and start running some basic models"
   ]
  },
  {
   "cell_type": "code",
   "execution_count": 57,
   "metadata": {},
   "outputs": [],
   "source": [
    "from sklearn.preprocessing import StandardScaler, MinMaxScaler, PolynomialFeatures\n",
    "from sklearn.model_selection import train_test_split, GridSearchCV\n",
    "from sklearn.pipeline import Pipeline, make_pipeline\n",
    "from sklearn.linear_model import Ridge, Lasso, ElasticNet"
   ]
  },
  {
   "cell_type": "code",
   "execution_count": 58,
   "metadata": {},
   "outputs": [],
   "source": [
    "## train test split\n",
    "y=ames['SalePrice']\n",
    "X=ames.drop('SalePrice', axis = 1)\n",
    "X_train, X_test, y_train, y_test = train_test_split(X, y)"
   ]
  },
  {
   "cell_type": "code",
   "execution_count": 59,
   "metadata": {},
   "outputs": [],
   "source": [
    "def basic_linear_reg(X_in,y_in,X_out,y_out):\n",
    "    lr=LinearRegression()\n",
    "    lr.fit(X_in,y_in)\n",
    "    score=lr.score(X_in,y_in)\n",
    "    y_predict=lr.predict(X_out)\n",
    "    rmse=np.sqrt(mean_squared_error(y_predict,y_out))\n",
    "    print(\"rmse=\",rmse,\" (score={:.3f}\".format(score),\")\")"
   ]
  },
  {
   "cell_type": "code",
   "execution_count": 60,
   "metadata": {},
   "outputs": [
    {
     "name": "stdout",
     "output_type": "stream",
     "text": [
      "rmse= 60111.46691981992  (score=0.502 )\n",
      "rmse= 64811.72311125428  (score=0.406 )\n",
      "rmse= 52117.42365964715  (score=0.624 )\n"
     ]
    }
   ],
   "source": [
    "# run three basic linear regression models without scaling the data\n",
    "basic_linear_reg(X_train['GrLivArea'].values.reshape(-1,1),y_train,X_test['GrLivArea'].values.reshape(-1,1),y_test)\n",
    "basic_linear_reg(X_train['GarageCars'].values.reshape(-1,1),y_train,X_test['GarageCars'].values.reshape(-1,1),y_test)\n",
    "basic_linear_reg(X_train[['GrLivArea','GarageCars']],y_train,X_test[['GrLivArea','GarageCars']],y_test)"
   ]
  },
  {
   "cell_type": "code",
   "execution_count": 61,
   "metadata": {},
   "outputs": [],
   "source": [
    "def process_data(model,params):\n",
    "    pipe=make_pipeline(StandardScaler(),PolynomialFeatures(), model)\n",
    "    grid = GridSearchCV(pipe,param_grid=params, cv=3)   # create a grid object to put the pipeline into\n",
    "    grid.fit(X_train,y_train)\n",
    "    best=grid.best_estimator_\n",
    "    score=best.score(X_test,y_test)\n",
    "    prediction=best.predict(X_test)\n",
    "    rmse=np.sqrt(mean_squared_error(prediction,y_test))\n",
    "    best_params=str(grid.best_params_)\n",
    "    print(\"rmse=\",rmse,\" (score={:.3f}\".format(score),\"); \",best_params)"
   ]
  },
  {
   "cell_type": "code",
   "execution_count": 62,
   "metadata": {},
   "outputs": [
    {
     "name": "stdout",
     "output_type": "stream",
     "text": [
      "rmse= 41664.55184299176  (score=0.759 );  {'polynomialfeatures__degree': 3}\n"
     ]
    }
   ],
   "source": [
    "# pass a linear regression model and parameters.  data will be scaled\n",
    "params = {'polynomialfeatures__degree':[1,2,3]}\n",
    "process_data(LinearRegression(),params)"
   ]
  },
  {
   "cell_type": "code",
   "execution_count": 63,
   "metadata": {},
   "outputs": [
    {
     "name": "stdout",
     "output_type": "stream",
     "text": [
      "rmse= 33971.30275790455  (score=0.840 );  {'polynomialfeatures__degree': 1, 'ridge__alpha': 30}\n"
     ]
    }
   ],
   "source": [
    "# pass a ridge regression model and parameters.  data will be scaled\n",
    "params = {'ridge__alpha':[10,20,30],'polynomialfeatures__degree':[1,2,3]}\n",
    "process_data(Ridge(),params);"
   ]
  },
  {
   "cell_type": "code",
   "execution_count": 64,
   "metadata": {},
   "outputs": [
    {
     "name": "stderr",
     "output_type": "stream",
     "text": [
      "C:\\Users\\npgreenfield\\AppData\\Local\\Continuum\\anaconda3\\lib\\site-packages\\sklearn\\linear_model\\coordinate_descent.py:491: ConvergenceWarning: Objective did not converge. You might want to increase the number of iterations. Fitting data with very small alpha may cause precision problems.\n",
      "  ConvergenceWarning)\n",
      "C:\\Users\\npgreenfield\\AppData\\Local\\Continuum\\anaconda3\\lib\\site-packages\\sklearn\\linear_model\\coordinate_descent.py:491: ConvergenceWarning: Objective did not converge. You might want to increase the number of iterations. Fitting data with very small alpha may cause precision problems.\n",
      "  ConvergenceWarning)\n",
      "C:\\Users\\npgreenfield\\AppData\\Local\\Continuum\\anaconda3\\lib\\site-packages\\sklearn\\linear_model\\coordinate_descent.py:491: ConvergenceWarning: Objective did not converge. You might want to increase the number of iterations. Fitting data with very small alpha may cause precision problems.\n",
      "  ConvergenceWarning)\n",
      "C:\\Users\\npgreenfield\\AppData\\Local\\Continuum\\anaconda3\\lib\\site-packages\\sklearn\\linear_model\\coordinate_descent.py:491: ConvergenceWarning: Objective did not converge. You might want to increase the number of iterations. Fitting data with very small alpha may cause precision problems.\n",
      "  ConvergenceWarning)\n",
      "C:\\Users\\npgreenfield\\AppData\\Local\\Continuum\\anaconda3\\lib\\site-packages\\sklearn\\linear_model\\coordinate_descent.py:491: ConvergenceWarning: Objective did not converge. You might want to increase the number of iterations. Fitting data with very small alpha may cause precision problems.\n",
      "  ConvergenceWarning)\n",
      "C:\\Users\\npgreenfield\\AppData\\Local\\Continuum\\anaconda3\\lib\\site-packages\\sklearn\\linear_model\\coordinate_descent.py:491: ConvergenceWarning: Objective did not converge. You might want to increase the number of iterations. Fitting data with very small alpha may cause precision problems.\n",
      "  ConvergenceWarning)\n",
      "C:\\Users\\npgreenfield\\AppData\\Local\\Continuum\\anaconda3\\lib\\site-packages\\sklearn\\linear_model\\coordinate_descent.py:491: ConvergenceWarning: Objective did not converge. You might want to increase the number of iterations. Fitting data with very small alpha may cause precision problems.\n",
      "  ConvergenceWarning)\n",
      "C:\\Users\\npgreenfield\\AppData\\Local\\Continuum\\anaconda3\\lib\\site-packages\\sklearn\\linear_model\\coordinate_descent.py:491: ConvergenceWarning: Objective did not converge. You might want to increase the number of iterations. Fitting data with very small alpha may cause precision problems.\n",
      "  ConvergenceWarning)\n",
      "C:\\Users\\npgreenfield\\AppData\\Local\\Continuum\\anaconda3\\lib\\site-packages\\sklearn\\linear_model\\coordinate_descent.py:491: ConvergenceWarning: Objective did not converge. You might want to increase the number of iterations. Fitting data with very small alpha may cause precision problems.\n",
      "  ConvergenceWarning)\n",
      "C:\\Users\\npgreenfield\\AppData\\Local\\Continuum\\anaconda3\\lib\\site-packages\\sklearn\\linear_model\\coordinate_descent.py:491: ConvergenceWarning: Objective did not converge. You might want to increase the number of iterations. Fitting data with very small alpha may cause precision problems.\n",
      "  ConvergenceWarning)\n",
      "C:\\Users\\npgreenfield\\AppData\\Local\\Continuum\\anaconda3\\lib\\site-packages\\sklearn\\linear_model\\coordinate_descent.py:491: ConvergenceWarning: Objective did not converge. You might want to increase the number of iterations. Fitting data with very small alpha may cause precision problems.\n",
      "  ConvergenceWarning)\n",
      "C:\\Users\\npgreenfield\\AppData\\Local\\Continuum\\anaconda3\\lib\\site-packages\\sklearn\\linear_model\\coordinate_descent.py:491: ConvergenceWarning: Objective did not converge. You might want to increase the number of iterations. Fitting data with very small alpha may cause precision problems.\n",
      "  ConvergenceWarning)\n",
      "C:\\Users\\npgreenfield\\AppData\\Local\\Continuum\\anaconda3\\lib\\site-packages\\sklearn\\linear_model\\coordinate_descent.py:491: ConvergenceWarning: Objective did not converge. You might want to increase the number of iterations. Fitting data with very small alpha may cause precision problems.\n",
      "  ConvergenceWarning)\n",
      "C:\\Users\\npgreenfield\\AppData\\Local\\Continuum\\anaconda3\\lib\\site-packages\\sklearn\\linear_model\\coordinate_descent.py:491: ConvergenceWarning: Objective did not converge. You might want to increase the number of iterations. Fitting data with very small alpha may cause precision problems.\n",
      "  ConvergenceWarning)\n",
      "C:\\Users\\npgreenfield\\AppData\\Local\\Continuum\\anaconda3\\lib\\site-packages\\sklearn\\linear_model\\coordinate_descent.py:491: ConvergenceWarning: Objective did not converge. You might want to increase the number of iterations. Fitting data with very small alpha may cause precision problems.\n",
      "  ConvergenceWarning)\n"
     ]
    },
    {
     "name": "stdout",
     "output_type": "stream",
     "text": [
      "rmse= 34010.85465191278  (score=0.839 );  {'lasso__alpha': 25, 'polynomialfeatures__degree': 1}\n"
     ]
    }
   ],
   "source": [
    "# pass a lasso regression model and parameters.  data will be scaled\n",
    "params = {'lasso__alpha':[15,20,25],'polynomialfeatures__degree':[1,2]}\n",
    "process_data(Lasso(),params);"
   ]
  },
  {
   "cell_type": "code",
   "execution_count": null,
   "metadata": {},
   "outputs": [],
   "source": []
  }
 ],
 "metadata": {
  "kernelspec": {
   "display_name": "Python 3",
   "language": "python",
   "name": "python3"
  },
  "language_info": {
   "codemirror_mode": {
    "name": "ipython",
    "version": 3
   },
   "file_extension": ".py",
   "mimetype": "text/x-python",
   "name": "python",
   "nbconvert_exporter": "python",
   "pygments_lexer": "ipython3",
   "version": "3.6.5"
  }
 },
 "nbformat": 4,
 "nbformat_minor": 2
}
