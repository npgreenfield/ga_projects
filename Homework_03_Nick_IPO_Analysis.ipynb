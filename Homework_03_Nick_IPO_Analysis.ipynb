{
 "cells": [
  {
   "cell_type": "markdown",
   "metadata": {},
   "source": [
    "# Homework Assignment\n",
    "\n",
    "Using logistic regression, determine which IPO stocks to trade.\n",
    "\n",
    "## Steps\n",
    "- Feature Engineering: clean the underlying data set (eliminate and \"fix\" any null values, convert objects to numeric values (where appropriate... via mapping categorical features and simply converting to floats and ints).  then, add features (and then eliminate the underlying features, where appropriate).  additional features will include adding SPY performance to the dataset.  Normally, I would look to identify and eliminate features that won't contribute to the model (not too many since the original dataset doesn't have a ton of columns).\n",
    "- Split the data into in/out of sample:  since this is time series data, we can use the earlier data to train and then test on the more recent data.\n",
    "- Feature Scaling: normalize the data using StandardScaler\n",
    "- Using a GridSearch with Pipeline and Cross Validation, model the data using both Logistc Regression and KNeighborsClassifier."
   ]
  },
  {
   "cell_type": "code",
   "execution_count": 1212,
   "metadata": {},
   "outputs": [],
   "source": [
    "import pandas as pd\n",
    "import numpy as np"
   ]
  },
  {
   "cell_type": "code",
   "execution_count": 1213,
   "metadata": {},
   "outputs": [],
   "source": [
    "# from iposcoop.com... but needs some cleaning\n",
    "IPO = pd.read_csv('ipo_scoop.csv', usecols=[0, 1, 2, 3, 4, 5, 6, 7, 8, 9, 10, 11], \n",
    "                 skiprows=2, names=['date', 'issuer', 'symbol', 'managers', 'offer_price', 'open_price', 'first_day_close', \n",
    "                                    'first_day_pctchg', 'dollar_change_open', 'dollar_change_close', 'star_rating', 'performed'])"
   ]
  },
  {
   "cell_type": "code",
   "execution_count": 1214,
   "metadata": {},
   "outputs": [
    {
     "name": "stdout",
     "output_type": "stream",
     "text": [
      "<class 'pandas.core.frame.DataFrame'>\n",
      "RangeIndex: 3123 entries, 0 to 3122\n",
      "Data columns (total 12 columns):\n",
      "date                   3123 non-null object\n",
      "issuer                 3123 non-null object\n",
      "symbol                 3123 non-null object\n",
      "managers               3123 non-null object\n",
      "offer_price            3123 non-null object\n",
      "open_price             3123 non-null object\n",
      "first_day_close        3123 non-null object\n",
      "first_day_pctchg       3123 non-null object\n",
      "dollar_change_open     3123 non-null object\n",
      "dollar_change_close    3123 non-null object\n",
      "star_rating            3123 non-null object\n",
      "performed              357 non-null object\n",
      "dtypes: object(12)\n",
      "memory usage: 292.9+ KB\n"
     ]
    }
   ],
   "source": [
    "IPO.info()"
   ]
  },
  {
   "cell_type": "code",
   "execution_count": 1215,
   "metadata": {},
   "outputs": [
    {
     "data": {
      "text/html": [
       "<div>\n",
       "<style scoped>\n",
       "    .dataframe tbody tr th:only-of-type {\n",
       "        vertical-align: middle;\n",
       "    }\n",
       "\n",
       "    .dataframe tbody tr th {\n",
       "        vertical-align: top;\n",
       "    }\n",
       "\n",
       "    .dataframe thead th {\n",
       "        text-align: right;\n",
       "    }\n",
       "</style>\n",
       "<table border=\"1\" class=\"dataframe\">\n",
       "  <thead>\n",
       "    <tr style=\"text-align: right;\">\n",
       "      <th></th>\n",
       "      <th>date</th>\n",
       "      <th>issuer</th>\n",
       "      <th>symbol</th>\n",
       "      <th>managers</th>\n",
       "      <th>offer_price</th>\n",
       "      <th>open_price</th>\n",
       "      <th>first_day_close</th>\n",
       "      <th>first_day_pctchg</th>\n",
       "      <th>dollar_change_open</th>\n",
       "      <th>dollar_change_close</th>\n",
       "      <th>star_rating</th>\n",
       "      <th>performed</th>\n",
       "    </tr>\n",
       "  </thead>\n",
       "  <tbody>\n",
       "    <tr>\n",
       "      <th>0</th>\n",
       "      <td>2/16/18</td>\n",
       "      <td>Farmmi</td>\n",
       "      <td>FAMI</td>\n",
       "      <td>ViewTrade Securities</td>\n",
       "      <td>$4.00</td>\n",
       "      <td>$4.40</td>\n",
       "      <td>$6.18</td>\n",
       "      <td>54.50%</td>\n",
       "      <td>$0.40</td>\n",
       "      <td>$2.18</td>\n",
       "      <td>N/C</td>\n",
       "      <td>NaN</td>\n",
       "    </tr>\n",
       "    <tr>\n",
       "      <th>1</th>\n",
       "      <td>3/16/18</td>\n",
       "      <td>Senmiao Technology</td>\n",
       "      <td>AIHS</td>\n",
       "      <td>ViewTrade Securities</td>\n",
       "      <td>$4.00</td>\n",
       "      <td>$5.51</td>\n",
       "      <td>$5.56</td>\n",
       "      <td>39.00%</td>\n",
       "      <td>$1.51</td>\n",
       "      <td>$1.56</td>\n",
       "      <td>1</td>\n",
       "      <td>Missed</td>\n",
       "    </tr>\n",
       "    <tr>\n",
       "      <th>2</th>\n",
       "      <td>3/20/18</td>\n",
       "      <td>Golden Bull</td>\n",
       "      <td>DNJR</td>\n",
       "      <td>ViewTrade Securities</td>\n",
       "      <td>$4.00</td>\n",
       "      <td>$5.20</td>\n",
       "      <td>$4.62</td>\n",
       "      <td>15.50%</td>\n",
       "      <td>$1.20</td>\n",
       "      <td>$0.62</td>\n",
       "      <td>N/C</td>\n",
       "      <td>NaN</td>\n",
       "    </tr>\n",
       "    <tr>\n",
       "      <th>3</th>\n",
       "      <td>2/14/18</td>\n",
       "      <td>Motus GI Holdings</td>\n",
       "      <td>MOTS</td>\n",
       "      <td>Piper Jaffray/ Oppenheimer</td>\n",
       "      <td>$5.00</td>\n",
       "      <td>$5.00</td>\n",
       "      <td>$4.38</td>\n",
       "      <td>-12.40%</td>\n",
       "      <td>$0.00</td>\n",
       "      <td>-$0.62</td>\n",
       "      <td>1</td>\n",
       "      <td>NaN</td>\n",
       "    </tr>\n",
       "    <tr>\n",
       "      <th>4</th>\n",
       "      <td>2/1/18</td>\n",
       "      <td>One Stop Systems</td>\n",
       "      <td>OSS</td>\n",
       "      <td>Roth Capital Partners</td>\n",
       "      <td>$5.00</td>\n",
       "      <td>$5.55</td>\n",
       "      <td>$4.88</td>\n",
       "      <td>-2.40%</td>\n",
       "      <td>$0.55</td>\n",
       "      <td>-$0.12</td>\n",
       "      <td>1</td>\n",
       "      <td>NaN</td>\n",
       "    </tr>\n",
       "  </tbody>\n",
       "</table>\n",
       "</div>"
      ],
      "text/plain": [
       "      date               issuer symbol                    managers  \\\n",
       "0  2/16/18               Farmmi   FAMI        ViewTrade Securities   \n",
       "1  3/16/18  Senmiao Technology    AIHS        ViewTrade Securities   \n",
       "2  3/20/18          Golden Bull   DNJR        ViewTrade Securities   \n",
       "3  2/14/18   Motus GI Holdings    MOTS  Piper Jaffray/ Oppenheimer   \n",
       "4   2/1/18    One Stop Systems     OSS       Roth Capital Partners   \n",
       "\n",
       "  offer_price open_price first_day_close first_day_pctchg dollar_change_open  \\\n",
       "0       $4.00      $4.40           $6.18           54.50%              $0.40   \n",
       "1       $4.00      $5.51           $5.56           39.00%              $1.51   \n",
       "2       $4.00      $5.20           $4.62           15.50%              $1.20   \n",
       "3       $5.00      $5.00           $4.38          -12.40%              $0.00   \n",
       "4       $5.00      $5.55           $4.88           -2.40%              $0.55   \n",
       "\n",
       "  dollar_change_close star_rating performed  \n",
       "0               $2.18         N/C       NaN  \n",
       "1               $1.56           1    Missed  \n",
       "2               $0.62         N/C       NaN  \n",
       "3              -$0.62           1       NaN  \n",
       "4              -$0.12           1       NaN  "
      ]
     },
     "execution_count": 1215,
     "metadata": {},
     "output_type": "execute_result"
    }
   ],
   "source": [
    "IPO.head()"
   ]
  },
  {
   "cell_type": "code",
   "execution_count": 1216,
   "metadata": {},
   "outputs": [],
   "source": [
    "# get rid of $ signs (leading) on numbers... % signs (trailing)\n",
    "IPO = IPO.applymap(lambda x: x if not '$' in str(x) else x.replace('$', ''))\n",
    "IPO = IPO.applymap(lambda x: x if not '%' in str(x) else x.replace('%', ''))"
   ]
  },
  {
   "cell_type": "code",
   "execution_count": 1217,
   "metadata": {},
   "outputs": [],
   "source": [
    "# attempt to convert date from object to datetime using statement: df.date = pd.to_datetime(df.date)\n",
    "# this fails because of a single row that has an error.  identify and fix the row.\n",
    "IPO[IPO['date'] == '11/120']  \n",
    "IPO.loc[1258, 'date'] = '2012-11-20'\n",
    "IPO['date'] = pd.to_datetime(IPO['date'])\n",
    "IPO=IPO.sort_values('date')"
   ]
  },
  {
   "cell_type": "code",
   "execution_count": 1218,
   "metadata": {},
   "outputs": [
    {
     "name": "stdout",
     "output_type": "stream",
     "text": [
      "<class 'pandas.core.frame.DataFrame'>\n",
      "Int64Index: 3123 entries, 2886 to 57\n",
      "Data columns (total 12 columns):\n",
      "date                   3123 non-null datetime64[ns]\n",
      "issuer                 3123 non-null object\n",
      "symbol                 3123 non-null object\n",
      "managers               3123 non-null object\n",
      "offer_price            3123 non-null object\n",
      "open_price             3123 non-null object\n",
      "first_day_close        3123 non-null object\n",
      "first_day_pctchg       3123 non-null object\n",
      "dollar_change_open     3123 non-null object\n",
      "dollar_change_close    3123 non-null object\n",
      "star_rating            3123 non-null object\n",
      "performed              357 non-null object\n",
      "dtypes: datetime64[ns](1), object(11)\n",
      "memory usage: 317.2+ KB\n"
     ]
    }
   ],
   "source": [
    "IPO.info()"
   ]
  },
  {
   "cell_type": "code",
   "execution_count": 1219,
   "metadata": {},
   "outputs": [
    {
     "data": {
      "text/plain": [
       "Index(['date', 'issuer', 'symbol', 'managers', 'offer_price', 'open_price',\n",
       "       'first_day_close', 'first_day_pctchg', 'dollar_change_open',\n",
       "       'dollar_change_close', 'star_rating', 'performed'],\n",
       "      dtype='object')"
      ]
     },
     "execution_count": 1219,
     "metadata": {},
     "output_type": "execute_result"
    }
   ],
   "source": [
    "IPO.columns"
   ]
  },
  {
   "cell_type": "code",
   "execution_count": 1220,
   "metadata": {},
   "outputs": [],
   "source": [
    "# from describe, we see that star_ratings has no missing records and six distinct values\n",
    "# see what those values are, with the hope of ultimately converting to a ordinal value\n",
    "# after reviewing, the ratings are from 1-5... with some N/C values which I'm classifying as 0\n",
    "#IPO.describe()\n",
    "#IPO[\"star_rating\"].value_counts()\n",
    "IPO.star_rating.replace('N/C', 0, inplace=True)"
   ]
  },
  {
   "cell_type": "code",
   "execution_count": 1221,
   "metadata": {},
   "outputs": [],
   "source": [
    "# convert all possible columns to numeric\n",
    "# similar to going through one-by-one and running: df['offer_price'] = df['offer_price'].astype('float')\n",
    "for col in IPO.columns[4:11]:\n",
    "    IPO[col] = IPO[col].astype('float')"
   ]
  },
  {
   "cell_type": "code",
   "execution_count": 1222,
   "metadata": {},
   "outputs": [],
   "source": [
    "# IPO[IPO[\"managers\"].str.contains('/', regex=False)].info()\n",
    "IPO.managers=IPO.managers.str.split('/').apply(lambda x: x[0])\n",
    "\n",
    "IPO['count'] = IPO.groupby('managers')['managers'].transform('count')\n",
    "IPO['managers'] = np.where(IPO['count'] < 10, 'other', IPO['managers'])\n",
    "IPO.drop(columns=['count'], inplace=True)\n",
    "\n",
    "managers_dummies = pd.get_dummies(IPO.managers, drop_first=True, prefix='mgrs')\n",
    "IPO=IPO.join(managers_dummies)"
   ]
  },
  {
   "cell_type": "code",
   "execution_count": null,
   "metadata": {},
   "outputs": [],
   "source": []
  },
  {
   "cell_type": "code",
   "execution_count": null,
   "metadata": {},
   "outputs": [],
   "source": []
  },
  {
   "cell_type": "code",
   "execution_count": 1223,
   "metadata": {},
   "outputs": [
    {
     "data": {
      "text/html": [
       "<div>\n",
       "<style scoped>\n",
       "    .dataframe tbody tr th:only-of-type {\n",
       "        vertical-align: middle;\n",
       "    }\n",
       "\n",
       "    .dataframe tbody tr th {\n",
       "        vertical-align: top;\n",
       "    }\n",
       "\n",
       "    .dataframe thead th {\n",
       "        text-align: right;\n",
       "    }\n",
       "</style>\n",
       "<table border=\"1\" class=\"dataframe\">\n",
       "  <thead>\n",
       "    <tr style=\"text-align: right;\">\n",
       "      <th></th>\n",
       "      <th>date</th>\n",
       "      <th>issuer</th>\n",
       "      <th>symbol</th>\n",
       "      <th>managers</th>\n",
       "      <th>offer_price</th>\n",
       "      <th>open_price</th>\n",
       "      <th>first_day_close</th>\n",
       "      <th>first_day_pctchg</th>\n",
       "      <th>dollar_change_open</th>\n",
       "      <th>dollar_change_close</th>\n",
       "      <th>...</th>\n",
       "      <th>mgrs_SG Cowen</th>\n",
       "      <th>mgrs_Salomon Smith Barney</th>\n",
       "      <th>mgrs_Stifel</th>\n",
       "      <th>mgrs_Thomas Weisel Partners</th>\n",
       "      <th>mgrs_UBS Investment Bank</th>\n",
       "      <th>mgrs_UBS Warburg</th>\n",
       "      <th>mgrs_Wachovia</th>\n",
       "      <th>mgrs_Wells Fargo Securities</th>\n",
       "      <th>mgrs_William Blair</th>\n",
       "      <th>mgrs_other</th>\n",
       "    </tr>\n",
       "  </thead>\n",
       "  <tbody>\n",
       "    <tr>\n",
       "      <th>2886</th>\n",
       "      <td>2000-05-12</td>\n",
       "      <td>Sequoia Software</td>\n",
       "      <td>SQSW</td>\n",
       "      <td>Lehman Brothers</td>\n",
       "      <td>8.0</td>\n",
       "      <td>10.25</td>\n",
       "      <td>10.06</td>\n",
       "      <td>25.78</td>\n",
       "      <td>2.25</td>\n",
       "      <td>2.06</td>\n",
       "      <td>...</td>\n",
       "      <td>0</td>\n",
       "      <td>0</td>\n",
       "      <td>0</td>\n",
       "      <td>0</td>\n",
       "      <td>0</td>\n",
       "      <td>0</td>\n",
       "      <td>0</td>\n",
       "      <td>0</td>\n",
       "      <td>0</td>\n",
       "      <td>0</td>\n",
       "    </tr>\n",
       "    <tr>\n",
       "      <th>2887</th>\n",
       "      <td>2000-05-18</td>\n",
       "      <td>US Unwired</td>\n",
       "      <td>UNWR</td>\n",
       "      <td>other</td>\n",
       "      <td>11.0</td>\n",
       "      <td>11.03</td>\n",
       "      <td>11.06</td>\n",
       "      <td>0.57</td>\n",
       "      <td>0.03</td>\n",
       "      <td>0.06</td>\n",
       "      <td>...</td>\n",
       "      <td>0</td>\n",
       "      <td>0</td>\n",
       "      <td>0</td>\n",
       "      <td>0</td>\n",
       "      <td>0</td>\n",
       "      <td>0</td>\n",
       "      <td>0</td>\n",
       "      <td>0</td>\n",
       "      <td>0</td>\n",
       "      <td>1</td>\n",
       "    </tr>\n",
       "    <tr>\n",
       "      <th>2888</th>\n",
       "      <td>2000-05-18</td>\n",
       "      <td>Nogatech</td>\n",
       "      <td>NGTC</td>\n",
       "      <td>other</td>\n",
       "      <td>12.0</td>\n",
       "      <td>11.88</td>\n",
       "      <td>9.41</td>\n",
       "      <td>-21.61</td>\n",
       "      <td>-0.13</td>\n",
       "      <td>-2.59</td>\n",
       "      <td>...</td>\n",
       "      <td>0</td>\n",
       "      <td>0</td>\n",
       "      <td>0</td>\n",
       "      <td>0</td>\n",
       "      <td>0</td>\n",
       "      <td>0</td>\n",
       "      <td>0</td>\n",
       "      <td>0</td>\n",
       "      <td>0</td>\n",
       "      <td>1</td>\n",
       "    </tr>\n",
       "    <tr>\n",
       "      <th>2890</th>\n",
       "      <td>2000-05-18</td>\n",
       "      <td>New Focus</td>\n",
       "      <td>NUFO</td>\n",
       "      <td>Credit Suisse First Boston</td>\n",
       "      <td>20.0</td>\n",
       "      <td>40.00</td>\n",
       "      <td>51.00</td>\n",
       "      <td>155.00</td>\n",
       "      <td>20.00</td>\n",
       "      <td>31.00</td>\n",
       "      <td>...</td>\n",
       "      <td>0</td>\n",
       "      <td>0</td>\n",
       "      <td>0</td>\n",
       "      <td>0</td>\n",
       "      <td>0</td>\n",
       "      <td>0</td>\n",
       "      <td>0</td>\n",
       "      <td>0</td>\n",
       "      <td>0</td>\n",
       "      <td>0</td>\n",
       "    </tr>\n",
       "    <tr>\n",
       "      <th>2889</th>\n",
       "      <td>2000-05-18</td>\n",
       "      <td>iBEAM Broadcasting</td>\n",
       "      <td>IBEM</td>\n",
       "      <td>Morgan Stanley Dean Witter</td>\n",
       "      <td>10.0</td>\n",
       "      <td>11.50</td>\n",
       "      <td>14.00</td>\n",
       "      <td>40.00</td>\n",
       "      <td>1.50</td>\n",
       "      <td>4.00</td>\n",
       "      <td>...</td>\n",
       "      <td>0</td>\n",
       "      <td>0</td>\n",
       "      <td>0</td>\n",
       "      <td>0</td>\n",
       "      <td>0</td>\n",
       "      <td>0</td>\n",
       "      <td>0</td>\n",
       "      <td>0</td>\n",
       "      <td>0</td>\n",
       "      <td>0</td>\n",
       "    </tr>\n",
       "  </tbody>\n",
       "</table>\n",
       "<p>5 rows × 64 columns</p>\n",
       "</div>"
      ],
      "text/plain": [
       "           date               issuer symbol                    managers  \\\n",
       "2886 2000-05-12    Sequoia Software    SQSW             Lehman Brothers   \n",
       "2887 2000-05-18           US Unwired   UNWR                       other   \n",
       "2888 2000-05-18            Nogatech    NGTC                       other   \n",
       "2890 2000-05-18           New Focus    NUFO  Credit Suisse First Boston   \n",
       "2889 2000-05-18  iBEAM Broadcasting    IBEM  Morgan Stanley Dean Witter   \n",
       "\n",
       "      offer_price  open_price  first_day_close  first_day_pctchg  \\\n",
       "2886          8.0       10.25            10.06             25.78   \n",
       "2887         11.0       11.03            11.06              0.57   \n",
       "2888         12.0       11.88             9.41            -21.61   \n",
       "2890         20.0       40.00            51.00            155.00   \n",
       "2889         10.0       11.50            14.00             40.00   \n",
       "\n",
       "      dollar_change_open  dollar_change_close     ...      mgrs_SG Cowen  \\\n",
       "2886                2.25                 2.06     ...                  0   \n",
       "2887                0.03                 0.06     ...                  0   \n",
       "2888               -0.13                -2.59     ...                  0   \n",
       "2890               20.00                31.00     ...                  0   \n",
       "2889                1.50                 4.00     ...                  0   \n",
       "\n",
       "     mgrs_Salomon Smith Barney  mgrs_Stifel  mgrs_Thomas Weisel Partners  \\\n",
       "2886                         0            0                            0   \n",
       "2887                         0            0                            0   \n",
       "2888                         0            0                            0   \n",
       "2890                         0            0                            0   \n",
       "2889                         0            0                            0   \n",
       "\n",
       "      mgrs_UBS Investment Bank  mgrs_UBS Warburg  mgrs_Wachovia  \\\n",
       "2886                         0                 0              0   \n",
       "2887                         0                 0              0   \n",
       "2888                         0                 0              0   \n",
       "2890                         0                 0              0   \n",
       "2889                         0                 0              0   \n",
       "\n",
       "      mgrs_Wells Fargo Securities  mgrs_William Blair  mgrs_other  \n",
       "2886                            0                   0           0  \n",
       "2887                            0                   0           1  \n",
       "2888                            0                   0           1  \n",
       "2890                            0                   0           0  \n",
       "2889                            0                   0           0  \n",
       "\n",
       "[5 rows x 64 columns]"
      ]
     },
     "execution_count": 1223,
     "metadata": {},
     "output_type": "execute_result"
    }
   ],
   "source": [
    "IPO.head()"
   ]
  },
  {
   "cell_type": "code",
   "execution_count": 1224,
   "metadata": {},
   "outputs": [
    {
     "name": "stdout",
     "output_type": "stream",
     "text": [
      "<class 'pandas.core.frame.DataFrame'>\n",
      "Int64Index: 3123 entries, 2886 to 57\n",
      "Data columns (total 64 columns):\n",
      "date                               3123 non-null datetime64[ns]\n",
      "issuer                             3123 non-null object\n",
      "symbol                             3123 non-null object\n",
      "managers                           3123 non-null object\n",
      "offer_price                        3123 non-null float64\n",
      "open_price                         3123 non-null float64\n",
      "first_day_close                    3123 non-null float64\n",
      "first_day_pctchg                   3123 non-null float64\n",
      "dollar_change_open                 3123 non-null float64\n",
      "dollar_change_close                3123 non-null float64\n",
      "star_rating                        3123 non-null float64\n",
      "performed                          357 non-null object\n",
      "mgrs_Baird                         3123 non-null uint8\n",
      "mgrs_Banc of America               3123 non-null uint8\n",
      "mgrs_Barclays                      3123 non-null uint8\n",
      "mgrs_Barclays Capital              3123 non-null uint8\n",
      "mgrs_Bear Stearns                  3123 non-null uint8\n",
      "mgrs_BofA Merrill Lynch            3123 non-null uint8\n",
      "mgrs_CIBC World Markets            3123 non-null uint8\n",
      "mgrs_CS First Boston               3123 non-null uint8\n",
      "mgrs_Chase H&Q                     3123 non-null uint8\n",
      "mgrs_Citi                          3123 non-null uint8\n",
      "mgrs_Citigroup                     3123 non-null uint8\n",
      "mgrs_Cowen                         3123 non-null uint8\n",
      "mgrs_Cowen and Company             3123 non-null uint8\n",
      "mgrs_Credit Suisse                 3123 non-null uint8\n",
      "mgrs_Credit Suisse First Boston    3123 non-null uint8\n",
      "mgrs_Deutsche Banc Alex. Brown     3123 non-null uint8\n",
      "mgrs_Deutsche Bank                 3123 non-null uint8\n",
      "mgrs_Deutsche Bank Securities      3123 non-null uint8\n",
      "mgrs_EarlyBirdCapital              3123 non-null uint8\n",
      "mgrs_Ferris Baker Watts            3123 non-null uint8\n",
      "mgrs_Friedman Billings Ramsey      3123 non-null uint8\n",
      "mgrs_Goldman Sachs                 3123 non-null uint8\n",
      "mgrs_Goldman Sachs (Asia)          3123 non-null uint8\n",
      "mgrs_Goldman, Sachs                3123 non-null uint8\n",
      "mgrs_J.P. Morgan                   3123 non-null uint8\n",
      "mgrs_JP Morgan                     3123 non-null uint8\n",
      "mgrs_JPMorgan                      3123 non-null uint8\n",
      "mgrs_Jefferies                     3123 non-null uint8\n",
      "mgrs_Ladenburg Thalmann            3123 non-null uint8\n",
      "mgrs_Lazard Capital Markets        3123 non-null uint8\n",
      "mgrs_Leerink Partners              3123 non-null uint8\n",
      "mgrs_Lehman Brothers               3123 non-null uint8\n",
      "mgrs_Maxim Group                   3123 non-null uint8\n",
      "mgrs_Merrill Lynch                 3123 non-null uint8\n",
      "mgrs_Morgan Joseph                 3123 non-null uint8\n",
      "mgrs_Morgan Stanley                3123 non-null uint8\n",
      "mgrs_Morgan Stanley Dean Witter    3123 non-null uint8\n",
      "mgrs_Piper Jaffray                 3123 non-null uint8\n",
      "mgrs_RBC Capital Markets           3123 non-null uint8\n",
      "mgrs_Raymond James                 3123 non-null uint8\n",
      "mgrs_Robertson Stephens            3123 non-null uint8\n",
      "mgrs_Roth Capital Partners         3123 non-null uint8\n",
      "mgrs_SG Cowen                      3123 non-null uint8\n",
      "mgrs_Salomon Smith Barney          3123 non-null uint8\n",
      "mgrs_Stifel                        3123 non-null uint8\n",
      "mgrs_Thomas Weisel Partners        3123 non-null uint8\n",
      "mgrs_UBS Investment Bank           3123 non-null uint8\n",
      "mgrs_UBS Warburg                   3123 non-null uint8\n",
      "mgrs_Wachovia                      3123 non-null uint8\n",
      "mgrs_Wells Fargo Securities        3123 non-null uint8\n",
      "mgrs_William Blair                 3123 non-null uint8\n",
      "mgrs_other                         3123 non-null uint8\n",
      "dtypes: datetime64[ns](1), float64(7), object(4), uint8(52)\n",
      "memory usage: 555.8+ KB\n"
     ]
    }
   ],
   "source": [
    "IPO.info()"
   ]
  },
  {
   "cell_type": "code",
   "execution_count": 1225,
   "metadata": {},
   "outputs": [],
   "source": [
    "# add predictor variable - return from open to close.\n",
    "# set the target variable to 1 or 0\n",
    "# add a variable for Gap return \n",
    "IPO[\"IPO_Day1_Return\"]=(IPO[\"first_day_close\"]-IPO[\"open_price\"])/IPO[\"open_price\"]\n",
    "IPO[\"IPO_Gap\"]=(IPO[\"open_price\"]-IPO[\"offer_price\"])/IPO[\"offer_price\"]\n",
    "IPO[\"target\"]=IPO[\"IPO_Day1_Return\"].apply(lambda x:(x>0)*1)"
   ]
  },
  {
   "cell_type": "code",
   "execution_count": 1226,
   "metadata": {},
   "outputs": [
    {
     "data": {
      "text/plain": [
       "<matplotlib.axes._subplots.AxesSubplot at 0x52461400>"
      ]
     },
     "execution_count": 1226,
     "metadata": {},
     "output_type": "execute_result"
    },
    {
     "data": {
      "image/png": "[encoded data removed]",
      "text/plain": [
       "<Figure size 576x360 with 1 Axes>"
      ]
     },
     "metadata": {},
     "output_type": "display_data"
    }
   ],
   "source": [
    "IPO[\"IPO_Day1_Return\"].hist(bins = 100, figsize = (8, 5))"
   ]
  },
  {
   "cell_type": "code",
   "execution_count": 1227,
   "metadata": {},
   "outputs": [],
   "source": [
    "# get rid of non-numeric and irrelevent columns\n",
    "IPO.drop(columns=[\"performed\",\"dollar_change_open\",\"dollar_change_close\",\"symbol\",\"issuer\",\n",
    "                  \"managers\",\"first_day_pctchg\",\"offer_price\",\"open_price\",\"first_day_close\"],axis=1,inplace=True)"
   ]
  },
  {
   "cell_type": "code",
   "execution_count": 1228,
   "metadata": {},
   "outputs": [],
   "source": [
    "# add spy data and features related to the spy\n",
    "SPY = pd.read_csv('spy_updated.csv')\n",
    "\n",
    "SPY['Date'] = pd.to_datetime(SPY['Date'])\n",
    "\n",
    "#SPY.head()\n",
    "\n",
    "SPY[\"PrevDate\"]=SPY[\"Date\"].shift(1)\n",
    "SPY[\"POL\"]=(SPY[\"Close\"]-SPY[\"Low\"])/(SPY[\"High\"]-SPY[\"Low\"])\n",
    "SPY[\"PrevClo\"]=SPY[\"Adj Close\"].shift(1)\n",
    "SPY[\"Ret\"]=(SPY[\"Adj Close\"]-SPY[\"PrevClo\"])/SPY[\"PrevClo\"]\n",
    "SPY[\"GapRet\"]=(SPY[\"Open\"]-SPY[\"PrevClo\"])/SPY[\"PrevClo\"]\n",
    "SPY_Prev=SPY[[\"PrevDate\",\"POL\",\"Ret\"]]\n",
    "SPY_Prev=SPY_Prev.rename(columns={'PrevDate': 'date'})\n",
    "\n",
    "SPY.rename(columns={'Date': 'date'},inplace=True)\n",
    "SPY=SPY[[\"date\",\"GapRet\"]].merge(SPY_Prev,how='left',left_on=['date'],right_on=['date'])\n",
    "SPY.rename(columns={'GapRet': 'GapRet_SPY','POL': 'prevPOL_SPY','Ret': 'prevRet_SPY'}, inplace=True)"
   ]
  },
  {
   "cell_type": "code",
   "execution_count": 1229,
   "metadata": {},
   "outputs": [],
   "source": [
    "IPO=IPO.merge(SPY,how='left',left_on=['date'],right_on=['date'])"
   ]
  },
  {
   "cell_type": "code",
   "execution_count": 1230,
   "metadata": {},
   "outputs": [],
   "source": [
    "IPO.GapRet_SPY.fillna(IPO['GapRet_SPY'].mean(skipna=True),inplace=True)\n",
    "IPO.prevPOL_SPY.fillna(IPO['prevPOL_SPY'].mean(skipna=True),inplace=True)\n",
    "IPO.prevRet_SPY.fillna(IPO['prevRet_SPY'].mean(skipna=True),inplace=True)"
   ]
  },
  {
   "cell_type": "code",
   "execution_count": 1231,
   "metadata": {},
   "outputs": [
    {
     "name": "stdout",
     "output_type": "stream",
     "text": [
      "<class 'pandas.core.frame.DataFrame'>\n",
      "Int64Index: 3123 entries, 0 to 3122\n",
      "Data columns (total 60 columns):\n",
      "date                               3123 non-null datetime64[ns]\n",
      "star_rating                        3123 non-null float64\n",
      "mgrs_Baird                         3123 non-null uint8\n",
      "mgrs_Banc of America               3123 non-null uint8\n",
      "mgrs_Barclays                      3123 non-null uint8\n",
      "mgrs_Barclays Capital              3123 non-null uint8\n",
      "mgrs_Bear Stearns                  3123 non-null uint8\n",
      "mgrs_BofA Merrill Lynch            3123 non-null uint8\n",
      "mgrs_CIBC World Markets            3123 non-null uint8\n",
      "mgrs_CS First Boston               3123 non-null uint8\n",
      "mgrs_Chase H&Q                     3123 non-null uint8\n",
      "mgrs_Citi                          3123 non-null uint8\n",
      "mgrs_Citigroup                     3123 non-null uint8\n",
      "mgrs_Cowen                         3123 non-null uint8\n",
      "mgrs_Cowen and Company             3123 non-null uint8\n",
      "mgrs_Credit Suisse                 3123 non-null uint8\n",
      "mgrs_Credit Suisse First Boston    3123 non-null uint8\n",
      "mgrs_Deutsche Banc Alex. Brown     3123 non-null uint8\n",
      "mgrs_Deutsche Bank                 3123 non-null uint8\n",
      "mgrs_Deutsche Bank Securities      3123 non-null uint8\n",
      "mgrs_EarlyBirdCapital              3123 non-null uint8\n",
      "mgrs_Ferris Baker Watts            3123 non-null uint8\n",
      "mgrs_Friedman Billings Ramsey      3123 non-null uint8\n",
      "mgrs_Goldman Sachs                 3123 non-null uint8\n",
      "mgrs_Goldman Sachs (Asia)          3123 non-null uint8\n",
      "mgrs_Goldman, Sachs                3123 non-null uint8\n",
      "mgrs_J.P. Morgan                   3123 non-null uint8\n",
      "mgrs_JP Morgan                     3123 non-null uint8\n",
      "mgrs_JPMorgan                      3123 non-null uint8\n",
      "mgrs_Jefferies                     3123 non-null uint8\n",
      "mgrs_Ladenburg Thalmann            3123 non-null uint8\n",
      "mgrs_Lazard Capital Markets        3123 non-null uint8\n",
      "mgrs_Leerink Partners              3123 non-null uint8\n",
      "mgrs_Lehman Brothers               3123 non-null uint8\n",
      "mgrs_Maxim Group                   3123 non-null uint8\n",
      "mgrs_Merrill Lynch                 3123 non-null uint8\n",
      "mgrs_Morgan Joseph                 3123 non-null uint8\n",
      "mgrs_Morgan Stanley                3123 non-null uint8\n",
      "mgrs_Morgan Stanley Dean Witter    3123 non-null uint8\n",
      "mgrs_Piper Jaffray                 3123 non-null uint8\n",
      "mgrs_RBC Capital Markets           3123 non-null uint8\n",
      "mgrs_Raymond James                 3123 non-null uint8\n",
      "mgrs_Robertson Stephens            3123 non-null uint8\n",
      "mgrs_Roth Capital Partners         3123 non-null uint8\n",
      "mgrs_SG Cowen                      3123 non-null uint8\n",
      "mgrs_Salomon Smith Barney          3123 non-null uint8\n",
      "mgrs_Stifel                        3123 non-null uint8\n",
      "mgrs_Thomas Weisel Partners        3123 non-null uint8\n",
      "mgrs_UBS Investment Bank           3123 non-null uint8\n",
      "mgrs_UBS Warburg                   3123 non-null uint8\n",
      "mgrs_Wachovia                      3123 non-null uint8\n",
      "mgrs_Wells Fargo Securities        3123 non-null uint8\n",
      "mgrs_William Blair                 3123 non-null uint8\n",
      "mgrs_other                         3123 non-null uint8\n",
      "IPO_Day1_Return                    3123 non-null float64\n",
      "IPO_Gap                            3123 non-null float64\n",
      "target                             3123 non-null int64\n",
      "GapRet_SPY                         3123 non-null float64\n",
      "prevPOL_SPY                        3123 non-null float64\n",
      "prevRet_SPY                        3123 non-null float64\n",
      "dtypes: datetime64[ns](1), float64(6), int64(1), uint8(52)\n",
      "memory usage: 378.2 KB\n"
     ]
    }
   ],
   "source": [
    "IPO.info()"
   ]
  },
  {
   "cell_type": "code",
   "execution_count": 1232,
   "metadata": {},
   "outputs": [],
   "source": [
    "# write a split function that takes in sorted data and splits 75/25 or whatever\n",
    "def train_test_split_over_time(df_x,df_y,splitPct=0.75):\n",
    "    record_count=df_x.shape[0]\n",
    "    train_count=int(np.rint(0.75*record_count))\n",
    "    df_x_train=df_x[:train_count]\n",
    "    df_y_train=df_y[:train_count]\n",
    "    df_x_test=df_x[train_count:]\n",
    "    df_y_test=df_y[train_count:]\n",
    "    return df_x_train, df_x_test, df_y_train, df_y_test"
   ]
  },
  {
   "cell_type": "code",
   "execution_count": 1233,
   "metadata": {},
   "outputs": [],
   "source": [
    "from sklearn.model_selection import train_test_split"
   ]
  },
  {
   "cell_type": "code",
   "execution_count": 1234,
   "metadata": {},
   "outputs": [],
   "source": [
    "## train test split over time\n",
    "y=IPO['target']\n",
    "X=IPO.drop(['date','IPO_Day1_Return','target'], axis = 1)\n",
    "X_train, X_test, y_train, y_test = train_test_split_over_time(X, y)\n",
    "#X_train, X_test, y_train, y_test = train_test_split(X,y)"
   ]
  },
  {
   "cell_type": "code",
   "execution_count": 1235,
   "metadata": {},
   "outputs": [],
   "source": [
    "from sklearn.linear_model import LogisticRegression"
   ]
  },
  {
   "cell_type": "code",
   "execution_count": 1236,
   "metadata": {},
   "outputs": [],
   "source": [
    "from sklearn.pipeline import make_pipeline\n",
    "from sklearn.preprocessing import StandardScaler, MinMaxScaler, PolynomialFeatures\n",
    "from sklearn.model_selection import GridSearchCV\n",
    "from sklearn.metrics import precision_recall_curve, roc_curve\n",
    "from sklearn.metrics import classification_report, confusion_matrix, accuracy_score, precision_score\n",
    "from sklearn.linear_model import Lasso\n",
    "from sklearn.metrics import mean_squared_error"
   ]
  },
  {
   "cell_type": "code",
   "execution_count": null,
   "metadata": {},
   "outputs": [],
   "source": []
  },
  {
   "cell_type": "code",
   "execution_count": 1237,
   "metadata": {},
   "outputs": [
    {
     "name": "stdout",
     "output_type": "stream",
     "text": [
      "rmse= 0.5001115184027989  (score=-0.008 );  {'lasso__alpha': 20, 'polynomialfeatures__degree': 1}\n",
      "number of coefficients  0  out of: 57\n"
     ]
    }
   ],
   "source": [
    "params = {'lasso__alpha':[20,25],'polynomialfeatures__degree':[1]}\n",
    "\n",
    "pipe=make_pipeline(StandardScaler(),PolynomialFeatures(), Lasso())\n",
    "grid = GridSearchCV(pipe,param_grid=params, cv=3)   # create a grid object to put the pipeline into\n",
    "grid.fit(X_train,y_train)\n",
    "best=grid.best_estimator_\n",
    "score=best.score(X_test,y_test)\n",
    "prediction=best.predict(X_test)\n",
    "rmse=np.sqrt(mean_squared_error(prediction,y_test))\n",
    "best_params=str(grid.best_params_)\n",
    "print(\"rmse=\",rmse,\" (score={:.3f}\".format(score),\"); \",best_params)\n",
    "# grid.best_estimator_.named_steps.lasso  is the same as \"lasso.\" if there were no grid\n",
    "print(\"number of coefficients \",np.sum(grid.best_estimator_.named_steps.lasso.coef_ != 0),\n",
    "      \" out of:\", len(X_train.columns))"
   ]
  },
  {
   "cell_type": "code",
   "execution_count": 1238,
   "metadata": {},
   "outputs": [],
   "source": [
    "def run_model(model,params):\n",
    "    pipe=make_pipeline(StandardScaler(),PolynomialFeatures(), model)\n",
    "    grid = GridSearchCV(pipe,param_grid=params, scoring = 'roc_auc', cv=5)   # create a grid object to put the pipeline into\n",
    "    grid.fit(X_train,y_train)\n",
    "    best=grid.best_estimator_\n",
    "    score=best.score(X_test,y_test)\n",
    "    best_params=str(grid.best_params_)\n",
    "    print(\" (score={:.3f}\".format(score),\"); \",best_params,\"\\n\")\n",
    "    print(\"classification report:\\n\",classification_report(y_test,best.predict(X_test)))\n",
    "    print(\"confusion matrix:\\n\",confusion_matrix(y_test,best.predict(X_test)))"
   ]
  },
  {
   "cell_type": "markdown",
   "metadata": {},
   "source": [
    "### Results below are the best I could find"
   ]
  },
  {
   "cell_type": "code",
   "execution_count": 1239,
   "metadata": {},
   "outputs": [
    {
     "name": "stdout",
     "output_type": "stream",
     "text": [
      " (score=0.539 );  {'logisticregression__C': 0.025, 'polynomialfeatures__degree': 1} \n",
      "\n",
      "classification report:\n",
      "              precision    recall  f1-score   support\n",
      "\n",
      "          0       0.55      0.79      0.65       424\n",
      "          1       0.49      0.24      0.32       357\n",
      "\n",
      "avg / total       0.52      0.54      0.50       781\n",
      "\n",
      "confusion matrix:\n",
      " [[335  89]\n",
      " [271  86]]\n"
     ]
    }
   ],
   "source": [
    "# pass a linear regression model and parameters.  data will be scaled\n",
    "params = {'polynomialfeatures__degree':[1,2],'logisticregression__C': [0.02,0.025,0.03,0.035]}\n",
    "run_model(LogisticRegression(penalty='l1'),params)"
   ]
  },
  {
   "cell_type": "markdown",
   "metadata": {},
   "source": [
    "### Results above are the best I could find"
   ]
  },
  {
   "cell_type": "code",
   "execution_count": 1240,
   "metadata": {},
   "outputs": [],
   "source": [
    "# commented out below has worse results\n",
    "#params = {'polynomialfeatures__degree':[1,2],'logisticregression__C': [0.01,0.02,0.03,0.04,0.05]}\n",
    "#run_model(LogisticRegression(),params)"
   ]
  },
  {
   "cell_type": "code",
   "execution_count": 1241,
   "metadata": {},
   "outputs": [],
   "source": [
    "from sklearn.dummy import DummyClassifier"
   ]
  },
  {
   "cell_type": "code",
   "execution_count": 1242,
   "metadata": {},
   "outputs": [
    {
     "data": {
      "text/plain": [
       "DummyClassifier(constant=None, random_state=None, strategy='stratified')"
      ]
     },
     "execution_count": 1242,
     "metadata": {},
     "output_type": "execute_result"
    }
   ],
   "source": [
    "dumm = DummyClassifier()\n",
    "dumm.fit(X_train,y_train)\n",
    "DummyClassifier(constant=None, random_state=None, strategy='stratified')"
   ]
  },
  {
   "cell_type": "code",
   "execution_count": 1243,
   "metadata": {},
   "outputs": [
    {
     "data": {
      "text/plain": [
       "0.4942381562099872"
      ]
     },
     "execution_count": 1243,
     "metadata": {},
     "output_type": "execute_result"
    }
   ],
   "source": [
    "dumm.score(X_test,y_test)"
   ]
  },
  {
   "cell_type": "code",
   "execution_count": 1244,
   "metadata": {},
   "outputs": [
    {
     "name": "stdout",
     "output_type": "stream",
     "text": [
      "             precision    recall  f1-score   support\n",
      "\n",
      "          0       0.53      0.50      0.51       424\n",
      "          1       0.44      0.47      0.45       357\n",
      "\n",
      "avg / total       0.49      0.48      0.48       781\n",
      "\n"
     ]
    }
   ],
   "source": [
    "print(classification_report(y_test,dumm.predict(X_test)))"
   ]
  },
  {
   "cell_type": "code",
   "execution_count": 1245,
   "metadata": {},
   "outputs": [],
   "source": [
    "from sklearn.neighbors import KNeighborsClassifier"
   ]
  },
  {
   "cell_type": "code",
   "execution_count": 1246,
   "metadata": {},
   "outputs": [
    {
     "name": "stdout",
     "output_type": "stream",
     "text": [
      " (score=0.515 );  {'kneighborsclassifier__n_neighbors': 5, 'polynomialfeatures__degree': 1} \n",
      "\n",
      "classification report:\n",
      "              precision    recall  f1-score   support\n",
      "\n",
      "          0       0.55      0.59      0.57       424\n",
      "          1       0.47      0.42      0.44       357\n",
      "\n",
      "avg / total       0.51      0.51      0.51       781\n",
      "\n",
      "confusion matrix:\n",
      " [[252 172]\n",
      " [207 150]]\n"
     ]
    }
   ],
   "source": [
    "# pass a linear regression model and parameters.  data will be scaled\n",
    "params = {'polynomialfeatures__degree':[1],'kneighborsclassifier__n_neighbors': [1,2,3,4,5]}\n",
    "run_model(KNeighborsClassifier(),params)"
   ]
  },
  {
   "cell_type": "code",
   "execution_count": null,
   "metadata": {},
   "outputs": [],
   "source": []
  }
 ],
 "metadata": {
  "kernelspec": {
   "display_name": "Python 3",
   "language": "python",
   "name": "python3"
  },
  "language_info": {
   "codemirror_mode": {
    "name": "ipython",
    "version": 3
   },
   "file_extension": ".py",
   "mimetype": "text/x-python",
   "name": "python",
   "nbconvert_exporter": "python",
   "pygments_lexer": "ipython3",
   "version": "3.6.5"
  }
 },
 "nbformat": 4,
 "nbformat_minor": 2
}
